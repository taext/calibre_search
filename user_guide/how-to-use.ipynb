{
 "cells": [
  {
   "cell_type": "markdown",
   "metadata": {},
   "source": [
    "### Basic Search Tutorial"
   ]
  },
  {
   "cell_type": "code",
   "execution_count": 22,
   "metadata": {},
   "outputs": [],
   "source": [
    "import calibre_tooling as calibre"
   ]
  },
  {
   "cell_type": "markdown",
   "metadata": {},
   "source": [
    "#### title search"
   ]
  },
  {
   "cell_type": "code",
   "execution_count": 39,
   "metadata": {},
   "outputs": [
    {
     "data": {
      "text/plain": [
       "The Campside Guide to Dutch Oven Cooking: 66 Easy, Delicious Recipes for Backpackers, Day Hikers, and Campers   (Bushcraft, Cooking, Technique)"
      ]
     },
     "execution_count": 39,
     "metadata": {},
     "output_type": "execute_result"
    }
   ],
   "source": [
    "calibre.books.intitle('cooking')         # match on title"
   ]
  },
  {
   "cell_type": "markdown",
   "metadata": {},
   "source": [
    "Note that calibre_tooling loads the `.csv` found in its folder as its main library. \n",
    "\n",
    "This can then be accessed using the `books` object as above.\n"
   ]
  },
  {
   "cell_type": "markdown",
   "metadata": {},
   "source": [
    "#### general search"
   ]
  },
  {
   "cell_type": "markdown",
   "metadata": {},
   "source": [
    "You can search a specific field with `books.search(search_term, field_name)`:"
   ]
  },
  {
   "cell_type": "code",
   "execution_count": 35,
   "metadata": {},
   "outputs": [
    {
     "data": {
      "text/plain": [
       "Antimoderne   (French, Language)"
      ]
     },
     "execution_count": 35,
     "metadata": {},
     "output_type": "execute_result"
    }
   ],
   "source": [
    "calibre.books.search('moderne','title')        # match on custom field"
   ]
  },
  {
   "cell_type": "markdown",
   "metadata": {},
   "source": [
    "#### filtering by tag"
   ]
  },
  {
   "cell_type": "markdown",
   "metadata": {},
   "source": [
    "You can filter further by tag:"
   ]
  },
  {
   "cell_type": "code",
   "execution_count": 36,
   "metadata": {},
   "outputs": [
    {
     "data": {
      "text/plain": [
       "Schaum's Outline of French Grammar   (Language, French, Grammar, Schaums, Teaching Methods & Materials, Science)\n",
       "Routledge French Technical Dictionary Dictionnaire Technique Anglais: Volume 2 English-French/anglais-Francais   (French, Dictionary, Technical, Language, Engineering, Science)"
      ]
     },
     "execution_count": 36,
     "metadata": {},
     "output_type": "execute_result"
    }
   ],
   "source": [
    "calibre.books.search('french','tags').intags('science')      # filtering on tag"
   ]
  },
  {
   "cell_type": "markdown",
   "metadata": {},
   "source": [
    "and by title, like so:"
   ]
  },
  {
   "cell_type": "code",
   "execution_count": 38,
   "metadata": {},
   "outputs": [
    {
     "data": {
      "text/plain": [
       "Schaum's Outline of French Grammar   (Language, French, Grammar, Schaums, Teaching Methods & Materials, Science)"
      ]
     },
     "execution_count": 38,
     "metadata": {},
     "output_type": "execute_result"
    }
   ],
   "source": [
    "calibre.books.search('french','tags').intags('science').intitle('schaum') # filter on title"
   ]
  },
  {
   "cell_type": "markdown",
   "metadata": {},
   "source": [
    "<br>"
   ]
  },
  {
   "cell_type": "markdown",
   "metadata": {},
   "source": [
    "#### Example usage"
   ]
  },
  {
   "cell_type": "code",
   "execution_count": 62,
   "metadata": {},
   "outputs": [],
   "source": [
    "calibre.books.intags('french').intags('science').amazon_open()  "
   ]
  },
  {
   "cell_type": "code",
   "execution_count": 65,
   "metadata": {},
   "outputs": [
    {
     "data": {
      "text/plain": [
       "Schaum's Outline of Electric Circuits   (Electronics, Physics, Mathematics, Applied, Making, Computers, Important, Priority, To Read, Schaums, Science, Teaching Methods & Materials)\n",
       "Schaum's Easy Outline of Mathematical Handbook of Formulas and Tables   (Mathematics, Reference, To Read, Analysis, Creative Thinking, Creativity, Schaums, Science, Teaching Methods & Materials)"
      ]
     },
     "execution_count": 65,
     "metadata": {},
     "output_type": "execute_result"
    }
   ],
   "source": [
    "calibre.books.intitle('schaum').intags('math').intags('to read') "
   ]
  },
  {
   "cell_type": "code",
   "execution_count": 66,
   "metadata": {},
   "outputs": [],
   "source": [
    "calibre.books.intitle('schaum').intags('math').intags('to read').amazon_open() "
   ]
  },
  {
   "cell_type": "code",
   "execution_count": 72,
   "metadata": {},
   "outputs": [
    {
     "data": {
      "text/plain": [
       "Infinite Jest   (Fiction, American, Classics, To Read)\n",
       "Moby Dick   (Fiction, American, Classics, Literary, To Read)\n",
       "The Map and the Territory   (Fiction, Literary, Recommended, Classics, To Read)\n",
       "Kafka On The Shore   (General, Classics, Fiction, Japan, History, To Read, Recommended)\n",
       "The Alchemist   (Fiction, Spirituality, Classics, To Read)\n",
       "Ender's Game   (Fiction, Science Fiction, Classics, To Read)\n",
       "Daemon   (Fiction, Science Fiction, Classics, To Read, Computers)\n",
       "The Demon   (Fiction, Classics, To Read, Dark)\n",
       "Just Kids   (Fiction, Classics, To Read)\n",
       "Pandora's Star (The Commonwealth Saga Book 1)   (Science Fiction, Fiction, Classics, To Read)"
      ]
     },
     "execution_count": 72,
     "metadata": {},
     "output_type": "execute_result"
    }
   ],
   "source": [
    "calibre.books.intags('to read').intags('fiction').intags('classics') "
   ]
  },
  {
   "cell_type": "code",
   "execution_count": 74,
   "metadata": {},
   "outputs": [],
   "source": [
    "toread_fiction_classics = calibre.books.intags('to read').intags('fiction').intags('classics')"
   ]
  },
  {
   "cell_type": "code",
   "execution_count": 76,
   "metadata": {},
   "outputs": [
    {
     "data": {
      "text/plain": [
       "Infinite Jest   (Fiction, American, Classics, To Read)\n",
       "Moby Dick   (Fiction, American, Classics, Literary, To Read)"
      ]
     },
     "execution_count": 76,
     "metadata": {},
     "output_type": "execute_result"
    }
   ],
   "source": [
    "toread_fiction_classics.intags('american')"
   ]
  }
 ],
 "metadata": {
  "kernelspec": {
   "display_name": "Python 3",
   "language": "python",
   "name": "python3"
  },
  "language_info": {
   "codemirror_mode": {
    "name": "ipython",
    "version": 3
   },
   "file_extension": ".py",
   "mimetype": "text/x-python",
   "name": "python",
   "nbconvert_exporter": "python",
   "pygments_lexer": "ipython3",
   "version": "3.7.1"
  }
 },
 "nbformat": 4,
 "nbformat_minor": 2
}
