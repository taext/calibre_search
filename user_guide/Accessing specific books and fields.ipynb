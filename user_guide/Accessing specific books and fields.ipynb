{
 "cells": [
  {
   "cell_type": "code",
   "execution_count": 1,
   "metadata": {},
   "outputs": [],
   "source": [
    "import calibre_tooling as cali"
   ]
  },
  {
   "cell_type": "markdown",
   "metadata": {},
   "source": [
    "<br>"
   ]
  },
  {
   "cell_type": "markdown",
   "metadata": {},
   "source": [
    "## Accessing specific books and fields"
   ]
  },
  {
   "cell_type": "markdown",
   "metadata": {},
   "source": [
    "`calibre_tooling` loads the .csv Calibre library export file in its main folder on import.\n",
    "\n",
    "This library is represented by the `books` object:"
   ]
  },
  {
   "cell_type": "code",
   "execution_count": 2,
   "metadata": {},
   "outputs": [
    {
     "data": {
      "text/plain": [
       "Dive Into Python   (pdf)   (Python, Programming, Computers)"
      ]
     },
     "execution_count": 2,
     "metadata": {},
     "output_type": "execute_result"
    }
   ],
   "source": [
    "cali.books['Dive Into Python']"
   ]
  },
  {
   "cell_type": "code",
   "execution_count": 43,
   "metadata": {},
   "outputs": [],
   "source": [
    "res = cali.books['Dive Into Python']"
   ]
  },
  {
   "cell_type": "code",
   "execution_count": 49,
   "metadata": {},
   "outputs": [
    {
     "data": {
      "text/plain": [
       "['amazon_url',\n",
       " 'amazon_url_method',\n",
       " 'author',\n",
       " 'book_format',\n",
       " 'description',\n",
       " 'id_no',\n",
       " 'identifiers',\n",
       " 'isbn',\n",
       " 'language',\n",
       " 'library_name',\n",
       " 'lookup_amazon_link',\n",
       " 'path_to_cover_jpg',\n",
       " 'pubdate',\n",
       " 'publisher',\n",
       " 'rating',\n",
       " 'series',\n",
       " 'series_index',\n",
       " 'size',\n",
       " 'tags',\n",
       " 'time_stamp',\n",
       " 'title',\n",
       " 'title_sort',\n",
       " 'uuid']"
      ]
     },
     "execution_count": 49,
     "metadata": {},
     "output_type": "execute_result"
    }
   ],
   "source": [
    "[field for field in dir(res) if not \"__\" in field]           # the Book object fields"
   ]
  },
  {
   "cell_type": "markdown",
   "metadata": {},
   "source": [
    "<br>"
   ]
  },
  {
   "cell_type": "markdown",
   "metadata": {},
   "source": [
    "The `Book` object fields can be accessed by dot field name:"
   ]
  },
  {
   "cell_type": "code",
   "execution_count": 18,
   "metadata": {},
   "outputs": [
    {
     "data": {
      "text/plain": [
       "'Python, Programming, Computers'"
      ]
     },
     "execution_count": 18,
     "metadata": {},
     "output_type": "execute_result"
    }
   ],
   "source": [
    "cali.books['Dive Into Python'].tags"
   ]
  },
  {
   "cell_type": "markdown",
   "metadata": {},
   "source": [
    "<br>"
   ]
  },
  {
   "cell_type": "markdown",
   "metadata": {},
   "source": [
    "## Searching"
   ]
  },
  {
   "cell_type": "markdown",
   "metadata": {},
   "source": [
    "#### General search"
   ]
  },
  {
   "cell_type": "markdown",
   "metadata": {},
   "source": [
    "You can search any specific field using `.search(search_term, field_name)`:"
   ]
  },
  {
   "cell_type": "code",
   "execution_count": 47,
   "metadata": {},
   "outputs": [
    {
     "data": {
      "text/plain": [
       "Ficciones   (Fiction, Classics)\n",
       "Conceptos de espacio   (Architecture, Spanish, Language, Classics)\n",
       "Ideas. Historia Intelectual de La Humanidad by ...   (Philosophy, History, Spanish, Language)\n",
       "Los enemigos del comercio   (Spanish, Language)\n",
       "Termodinámica   (Physics, Spanish, Language, Textbook, Science)\n",
       "Microeconomía intermedia   (Economics, Micro, Language, Spanish)\n",
       "Frame Analysis. Los Marcos De La Experiencia (Spanish Edition)   (Psychology, Social Psychology, Language, Spanish)\n",
       "A lomos de dragones   (Spanish, Language)\n",
       "Escupelo"
      ]
     },
     "execution_count": 47,
     "metadata": {},
     "output_type": "execute_result"
    }
   ],
   "source": [
    "cali.books.search('spa', 'language')"
   ]
  },
  {
   "cell_type": "markdown",
   "metadata": {},
   "source": [
    "<br>"
   ]
  },
  {
   "cell_type": "markdown",
   "metadata": {},
   "source": [
    "#### Filtering on title"
   ]
  },
  {
   "cell_type": "markdown",
   "metadata": {},
   "source": [
    "You can partially match title field using `.intitle`:"
   ]
  },
  {
   "cell_type": "code",
   "execution_count": 23,
   "metadata": {},
   "outputs": [
    {
     "data": {
      "text/plain": [
       "Schaum's Outline of Spanish Grammar   (Language, Spanish, Schaums, Science, Teaching Methods & Materials)\n",
       "A Political History of Spanish: The Making of a Language   (Language, Spanish, History, Politics, To Read)\n",
       "Frame Analysis. Los Marcos De La Experiencia (Spanish Edition)   (Psychology, Social Psychology, Language, Spanish)\n",
       "Practice Makes Perfect® Complete Spanish Grammar: Premium: Second Edition\n",
       "Oxford Spanish Dictionary   (Spanish, Language, Dictionary)"
      ]
     },
     "execution_count": 23,
     "metadata": {},
     "output_type": "execute_result"
    }
   ],
   "source": [
    "cali.books.intitle('spanish')"
   ]
  },
  {
   "cell_type": "markdown",
   "metadata": {},
   "source": [
    "<br>"
   ]
  },
  {
   "cell_type": "markdown",
   "metadata": {},
   "source": [
    "#### Filtering on tag"
   ]
  },
  {
   "cell_type": "markdown",
   "metadata": {},
   "source": [
    "You can partially match tags using `books.intags`:"
   ]
  },
  {
   "cell_type": "code",
   "execution_count": 24,
   "metadata": {},
   "outputs": [
    {
     "data": {
      "text/plain": [
       "Schaum's Outline of Spanish Grammar   (Language, Spanish, Schaums, Science, Teaching Methods & Materials)\n",
       "Wing-Chun   (Wing Chun, Martial Arts & Self-Defense, Spanish, Language, Grey)\n",
       "Persuasión   (Negotiation, Spanish, Language)\n",
       "Conceptos de espacio   (Architecture, Spanish, Language, Classics)\n",
       "Ideas. Historia Intelectual de La Humanidad by ...   (Philosophy, History, Spanish, Language)\n",
       "A Political History of Spanish: The Making of a Language   (Language, Spanish, History, Politics, To Read)\n",
       "Los enemigos del comercio   (Spanish, Language)\n",
       "Termodinámica   (Physics, Spanish, Language, Textbook, Science)\n",
       "Microeconomía intermedia   (Economics, Micro, Language, Spanish)\n",
       "Frame Analysis. Los Marcos De La Experiencia (Spanish Edition)   (Psychology, Social Psychology, Language, Spanish)\n",
       "A lomos de dragones   (Spanish, Language)\n",
       "The Reign of Greed   (Philippine fiction (Spanish) -- Translations into English, Nationalists -- Philippines -- Fiction, Philippines -- History -- Fiction)\n",
       "Oxford Spanish Dictionary   (Spanish, Language, Dictionary)"
      ]
     },
     "execution_count": 24,
     "metadata": {},
     "output_type": "execute_result"
    }
   ],
   "source": [
    "cali.books.intags('spanish')"
   ]
  },
  {
   "cell_type": "markdown",
   "metadata": {},
   "source": [
    "<br>"
   ]
  },
  {
   "cell_type": "markdown",
   "metadata": {},
   "source": [
    "#### Chaining filters"
   ]
  },
  {
   "cell_type": "markdown",
   "metadata": {},
   "source": [
    "The `.intitle` and `.intags` filters can be chained:"
   ]
  },
  {
   "cell_type": "code",
   "execution_count": 48,
   "metadata": {},
   "outputs": [
    {
     "data": {
      "text/plain": [
       "Frame Analysis. Los Marcos De La Experiencia (Spanish Edition)   (Psychology, Social Psychology, Language, Spanish)"
      ]
     },
     "execution_count": 48,
     "metadata": {},
     "output_type": "execute_result"
    }
   ],
   "source": [
    "cali.books.intitle('spanish').intags('psychology')"
   ]
  },
  {
   "cell_type": "markdown",
   "metadata": {},
   "source": [
    "<br>"
   ]
  }
 ],
 "metadata": {
  "kernelspec": {
   "display_name": "Python 3",
   "language": "python",
   "name": "python3"
  },
  "language_info": {
   "codemirror_mode": {
    "name": "ipython",
    "version": 3
   },
   "file_extension": ".py",
   "mimetype": "text/x-python",
   "name": "python",
   "nbconvert_exporter": "python",
   "pygments_lexer": "ipython3",
   "version": "3.7.1"
  }
 },
 "nbformat": 4,
 "nbformat_minor": 2
}
