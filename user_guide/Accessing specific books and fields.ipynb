{
 "cells": [
  {
   "cell_type": "code",
   "execution_count": 15,
   "metadata": {},
   "outputs": [],
   "source": [
    "import calibre_tooling as cali"
   ]
  },
  {
   "cell_type": "markdown",
   "metadata": {},
   "source": [
    "## Accessing specific books and fields"
   ]
  },
  {
   "cell_type": "markdown",
   "metadata": {},
   "source": [
    "Importing calibre_tooling builds the dictionary `calibre.books`, a dictionary of books indexed by title and containing `Book` dataclass objects:"
   ]
  },
  {
   "cell_type": "code",
   "execution_count": 42,
   "metadata": {},
   "outputs": [
    {
     "data": {
      "text/plain": [
       "AmazonLinkBook(author='Mark Pilgrim', description='  * Quick start to learning python―very example oriented approach \\n  * Book has its own Web site established by the author: http://diveintopython.org/ \\n\\n\\nAuthor is well known in the Open Source community and the book has a unique quick approach to learning an object oriented language.\\n**\\n', path_to_cover_jpg='/media/truecrypt1/Keaton Institute Intelligence Library/Mark Pilgrim/Dive Into Python (1079)/cover.jpg', time_stamp='2015-12-30T19:32:32+01:00', book_format='pdf', isbn='9781590593561', identifiers={'isbn': '9781590593561', 'amazon': '1590593561'}, language='eng', library_name='Keaton Institute Intelligence Library', pubdate='2004-07-19T00:00:00+02:00', publisher='Apress', rating=nan, series=nan, series_index=1.0, size=1278909.0, tags='Python, Programming, Computers', title='Dive Into Python', title_sort='Dive Into Python', id_no=1079, uuid='3df4a186-339f-4632-90d1-11d4d062d169')"
      ]
     },
     "execution_count": 42,
     "metadata": {},
     "output_type": "execute_result"
    }
   ],
   "source": [
    "cali.books['Dive Into Python']  # the raw dataclass Book object"
   ]
  },
  {
   "cell_type": "code",
   "execution_count": 43,
   "metadata": {},
   "outputs": [],
   "source": [
    "res = cali.books['Dive Into Python']"
   ]
  },
  {
   "cell_type": "code",
   "execution_count": 44,
   "metadata": {},
   "outputs": [
    {
     "data": {
      "text/plain": [
       "['amazon_url',\n",
       " 'amazon_url_method',\n",
       " 'author',\n",
       " 'book_format',\n",
       " 'description',\n",
       " 'id_no',\n",
       " 'identifiers',\n",
       " 'isbn',\n",
       " 'language',\n",
       " 'library_name',\n",
       " 'lookup_amazon_link',\n",
       " 'path_to_cover_jpg',\n",
       " 'pubdate',\n",
       " 'publisher',\n",
       " 'rating',\n",
       " 'series',\n",
       " 'series_index',\n",
       " 'size',\n",
       " 'tags',\n",
       " 'time_stamp',\n",
       " 'title',\n",
       " 'title_sort',\n",
       " 'uuid']"
      ]
     },
     "execution_count": 44,
     "metadata": {},
     "output_type": "execute_result"
    }
   ],
   "source": [
    "[thing for thing in dir(res) if not \"__\" in thing]           # the Book object fields"
   ]
  },
  {
   "cell_type": "markdown",
   "metadata": {},
   "source": [
    "<br>"
   ]
  },
  {
   "cell_type": "markdown",
   "metadata": {},
   "source": [
    "The `Book` object fields can be accessed by dot field name:"
   ]
  },
  {
   "cell_type": "code",
   "execution_count": 18,
   "metadata": {},
   "outputs": [
    {
     "data": {
      "text/plain": [
       "'Python, Programming, Computers'"
      ]
     },
     "execution_count": 18,
     "metadata": {},
     "output_type": "execute_result"
    }
   ],
   "source": [
    "cali.books['Dive Into Python'].tags"
   ]
  },
  {
   "cell_type": "code",
   "execution_count": 19,
   "metadata": {},
   "outputs": [
    {
     "data": {
      "text/plain": [
       "'https://www.amazon.com/dp/1590593561'"
      ]
     },
     "execution_count": 19,
     "metadata": {},
     "output_type": "execute_result"
    }
   ],
   "source": [
    "cali.books['Dive Into Python'].amazon_url_method()"
   ]
  },
  {
   "cell_type": "code",
   "execution_count": null,
   "metadata": {},
   "outputs": [],
   "source": []
  },
  {
   "cell_type": "code",
   "execution_count": null,
   "metadata": {},
   "outputs": [],
   "source": []
  },
  {
   "cell_type": "markdown",
   "metadata": {},
   "source": [
    "## How to search library"
   ]
  },
  {
   "cell_type": "markdown",
   "metadata": {},
   "source": [
    "<br>"
   ]
  },
  {
   "cell_type": "markdown",
   "metadata": {},
   "source": [
    "#### General search"
   ]
  },
  {
   "cell_type": "markdown",
   "metadata": {},
   "source": [
    "You can search any specific field using `.search(search_term, field_name)`:"
   ]
  },
  {
   "cell_type": "code",
   "execution_count": 47,
   "metadata": {},
   "outputs": [
    {
     "data": {
      "text/plain": [
       "Ficciones   (Fiction, Classics)\n",
       "Conceptos de espacio   (Architecture, Spanish, Language, Classics)\n",
       "Ideas. Historia Intelectual de La Humanidad by ...   (Philosophy, History, Spanish, Language)\n",
       "Los enemigos del comercio   (Spanish, Language)\n",
       "Termodinámica   (Physics, Spanish, Language, Textbook, Science)\n",
       "Microeconomía intermedia   (Economics, Micro, Language, Spanish)\n",
       "Frame Analysis. Los Marcos De La Experiencia (Spanish Edition)   (Psychology, Social Psychology, Language, Spanish)\n",
       "A lomos de dragones   (Spanish, Language)\n",
       "Escupelo"
      ]
     },
     "execution_count": 47,
     "metadata": {},
     "output_type": "execute_result"
    }
   ],
   "source": [
    "cali.books.search('spa', 'language')"
   ]
  },
  {
   "cell_type": "markdown",
   "metadata": {},
   "source": [
    "<br>"
   ]
  },
  {
   "cell_type": "markdown",
   "metadata": {},
   "source": [
    "#### Filtering on title"
   ]
  },
  {
   "cell_type": "markdown",
   "metadata": {},
   "source": [
    "You can partially match title field using `.intitle`:"
   ]
  },
  {
   "cell_type": "code",
   "execution_count": 23,
   "metadata": {},
   "outputs": [
    {
     "data": {
      "text/plain": [
       "Schaum's Outline of Spanish Grammar   (Language, Spanish, Schaums, Science, Teaching Methods & Materials)\n",
       "A Political History of Spanish: The Making of a Language   (Language, Spanish, History, Politics, To Read)\n",
       "Frame Analysis. Los Marcos De La Experiencia (Spanish Edition)   (Psychology, Social Psychology, Language, Spanish)\n",
       "Practice Makes Perfect® Complete Spanish Grammar: Premium: Second Edition\n",
       "Oxford Spanish Dictionary   (Spanish, Language, Dictionary)"
      ]
     },
     "execution_count": 23,
     "metadata": {},
     "output_type": "execute_result"
    }
   ],
   "source": [
    "cali.books.intitle('spanish')"
   ]
  },
  {
   "cell_type": "markdown",
   "metadata": {},
   "source": [
    "<br>"
   ]
  },
  {
   "cell_type": "markdown",
   "metadata": {},
   "source": [
    "#### Filtering on tag"
   ]
  },
  {
   "cell_type": "markdown",
   "metadata": {},
   "source": [
    "You can partially match on tags using `books.intags`:"
   ]
  },
  {
   "cell_type": "code",
   "execution_count": 24,
   "metadata": {},
   "outputs": [
    {
     "data": {
      "text/plain": [
       "Schaum's Outline of Spanish Grammar   (Language, Spanish, Schaums, Science, Teaching Methods & Materials)\n",
       "Wing-Chun   (Wing Chun, Martial Arts & Self-Defense, Spanish, Language, Grey)\n",
       "Persuasión   (Negotiation, Spanish, Language)\n",
       "Conceptos de espacio   (Architecture, Spanish, Language, Classics)\n",
       "Ideas. Historia Intelectual de La Humanidad by ...   (Philosophy, History, Spanish, Language)\n",
       "A Political History of Spanish: The Making of a Language   (Language, Spanish, History, Politics, To Read)\n",
       "Los enemigos del comercio   (Spanish, Language)\n",
       "Termodinámica   (Physics, Spanish, Language, Textbook, Science)\n",
       "Microeconomía intermedia   (Economics, Micro, Language, Spanish)\n",
       "Frame Analysis. Los Marcos De La Experiencia (Spanish Edition)   (Psychology, Social Psychology, Language, Spanish)\n",
       "A lomos de dragones   (Spanish, Language)\n",
       "The Reign of Greed   (Philippine fiction (Spanish) -- Translations into English, Nationalists -- Philippines -- Fiction, Philippines -- History -- Fiction)\n",
       "Oxford Spanish Dictionary   (Spanish, Language, Dictionary)"
      ]
     },
     "execution_count": 24,
     "metadata": {},
     "output_type": "execute_result"
    }
   ],
   "source": [
    "cali.books.intags('spanish')"
   ]
  },
  {
   "cell_type": "markdown",
   "metadata": {},
   "source": [
    "<br>"
   ]
  },
  {
   "cell_type": "markdown",
   "metadata": {},
   "source": [
    "#### Chaining filters"
   ]
  },
  {
   "cell_type": "markdown",
   "metadata": {},
   "source": [
    "The `.intitle` and `.intags` filters can be chained:"
   ]
  },
  {
   "cell_type": "code",
   "execution_count": 26,
   "metadata": {},
   "outputs": [
    {
     "data": {
      "text/plain": [
       "Frame Analysis. Los Marcos De La Experiencia (Spanish Edition)   (Psychology, Social Psychology, Language, Spanish)"
      ]
     },
     "execution_count": 26,
     "metadata": {},
     "output_type": "execute_result"
    }
   ],
   "source": [
    "cali.books.intags('spanish').intags('psychology')"
   ]
  },
  {
   "cell_type": "markdown",
   "metadata": {},
   "source": [
    "<br>"
   ]
  }
 ],
 "metadata": {
  "kernelspec": {
   "display_name": "Python 3",
   "language": "python",
   "name": "python3"
  },
  "language_info": {
   "codemirror_mode": {
    "name": "ipython",
    "version": 3
   },
   "file_extension": ".py",
   "mimetype": "text/x-python",
   "name": "python",
   "nbconvert_exporter": "python",
   "pygments_lexer": "ipython3",
   "version": "3.7.1"
  }
 },
 "nbformat": 4,
 "nbformat_minor": 2
}
