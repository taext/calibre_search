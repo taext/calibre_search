{
 "cells": [
  {
   "cell_type": "markdown",
   "metadata": {},
   "source": [
    "### Basic Search Tutorial"
   ]
  },
  {
   "cell_type": "code",
   "execution_count": 22,
   "metadata": {},
   "outputs": [],
   "source": [
    "import calibre_tooling as calibre"
   ]
  },
  {
   "cell_type": "markdown",
   "metadata": {},
   "source": [
    "#### title search"
   ]
  },
  {
   "cell_type": "code",
   "execution_count": 23,
   "metadata": {},
   "outputs": [
    {
     "data": {
      "text/plain": [
       "Complete Calisthenics: The Ultimate Guide to Bodyweight Exercise   (Health & Fitness, Calisthenics)"
      ]
     },
     "execution_count": 23,
     "metadata": {},
     "output_type": "execute_result"
    }
   ],
   "source": [
    "calibre.books.intitle('Calisthenics')         # match on title"
   ]
  },
  {
   "cell_type": "markdown",
   "metadata": {},
   "source": [
    "Note that `kali_tool` loads the `.csv` found in its folder as its main library. \n",
    "\n",
    "This can then be accessed using the `books`object as above.\n"
   ]
  },
  {
   "cell_type": "markdown",
   "metadata": {},
   "source": [
    "#### general search"
   ]
  },
  {
   "cell_type": "markdown",
   "metadata": {},
   "source": [
    "You can search a specific field with `books.search(search_term, field_name)`:"
   ]
  },
  {
   "cell_type": "code",
   "execution_count": 27,
   "metadata": {},
   "outputs": [
    {
     "data": {
      "text/plain": [
       "Schaum's Outline of Spanish Grammar   (Language, Spanish, Schaums, Science, Teaching Methods & Materials)\n",
       "Wing-Chun   (Wing Chun, Martial Arts & Self-Defense, Spanish, Language, Grey)\n",
       "Persuasión   (Negotiation, Spanish, Language)\n",
       "Conceptos de espacio   (Architecture, Spanish, Language, Classics)\n",
       "Ideas. Historia Intelectual de La Humanidad by ...   (Philosophy, History, Spanish, Language)\n",
       "A Political History of Spanish: The Making of a Language   (Language, Spanish, History, Politics, To Read)\n",
       "Los enemigos del comercio   (Spanish, Language)\n",
       "Termodinámica   (Physics, Spanish, Language, Textbook, Science)\n",
       "Microeconomía intermedia   (Economics, Micro, Language, Spanish)\n",
       "Frame Analysis. Los Marcos De La Experiencia (Spanish Edition)   (Psychology, Social Psychology, Language, Spanish)\n",
       "A lomos de dragones   (Spanish, Language)\n",
       "The Reign of Greed   (Philippine fiction (Spanish) -- Translations into English, Nationalists -- Philippines -- Fiction, Philippines -- History -- Fiction)\n",
       "Oxford Spanish Dictionary   (Spanish, Language, Dictionary)"
      ]
     },
     "execution_count": 27,
     "metadata": {},
     "output_type": "execute_result"
    }
   ],
   "source": [
    "calibre.books.search('spanish','tags')        # match on custom field"
   ]
  },
  {
   "cell_type": "markdown",
   "metadata": {},
   "source": [
    "#### filtering by tag"
   ]
  },
  {
   "cell_type": "markdown",
   "metadata": {},
   "source": [
    "and filter further by tag like so:"
   ]
  },
  {
   "cell_type": "code",
   "execution_count": 28,
   "metadata": {},
   "outputs": [
    {
     "data": {
      "text/plain": [
       "Schaum's Outline of Spanish Grammar   (Language, Spanish, Schaums, Science, Teaching Methods & Materials)\n",
       "Termodinámica   (Physics, Spanish, Language, Textbook, Science)"
      ]
     },
     "execution_count": 28,
     "metadata": {},
     "output_type": "execute_result"
    }
   ],
   "source": [
    "calibre.books.search('spanish','tags').intags('science')      # filtering on tag"
   ]
  },
  {
   "cell_type": "markdown",
   "metadata": {},
   "source": [
    "and by title like so:"
   ]
  },
  {
   "cell_type": "code",
   "execution_count": 29,
   "metadata": {},
   "outputs": [
    {
     "data": {
      "text/plain": [
       "Termodinámica   (Physics, Spanish, Language, Textbook, Science)"
      ]
     },
     "execution_count": 29,
     "metadata": {},
     "output_type": "execute_result"
    }
   ],
   "source": [
    "calibre.books.search('spanish','tags').intags('science').intitle('Termo') # filter on title"
   ]
  },
  {
   "cell_type": "code",
   "execution_count": null,
   "metadata": {},
   "outputs": [],
   "source": []
  },
  {
   "cell_type": "code",
   "execution_count": 20,
   "metadata": {},
   "outputs": [],
   "source": [
    "# idea: save_search/filter functionality"
   ]
  }
 ],
 "metadata": {
  "kernelspec": {
   "display_name": "Python 3",
   "language": "python",
   "name": "python3"
  },
  "language_info": {
   "codemirror_mode": {
    "name": "ipython",
    "version": 3
   },
   "file_extension": ".py",
   "mimetype": "text/x-python",
   "name": "python",
   "nbconvert_exporter": "python",
   "pygments_lexer": "ipython3",
   "version": "3.7.1"
  }
 },
 "nbformat": 4,
 "nbformat_minor": 2
}
